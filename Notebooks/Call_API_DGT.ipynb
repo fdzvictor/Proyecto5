{
 "cells": [
  {
   "cell_type": "code",
   "execution_count": null,
   "metadata": {
    "vscode": {
     "languageId": "plaintext"
    }
   },
   "outputs": [],
   "source": [
    "\n",
    "SELECT \"MARCA\", \"MODELO\", \"TIPO_DISTINTIVO\", \"CILINDRADA\", COUNT(*) AS \"NUMERO_UNIDADES\"\n",
    "FROM parque_consolidado pc\n",
    "WHERE \"TIPO_DISTINTIVO\" <> 'SIN DISTINTIVO' \n",
    "  AND \"TIPO_DGT\" = 'TURISMOS' \n",
    "  AND \"MODELO\" <> '¡'  \n",
    "GROUP BY \"MARCA\", \"MODELO\", \"TIPO_DISTINTIVO\", \"CILINDRADA\"\n",
    "ORDER BY \"NUMERO_UNIDADES\" DESC;"
   ]
  }
 ],
 "metadata": {
  "language_info": {
   "name": "python"
  }
 },
 "nbformat": 4,
 "nbformat_minor": 2
}
