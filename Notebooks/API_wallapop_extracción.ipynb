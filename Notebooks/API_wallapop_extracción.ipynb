{
 "cells": [
  {
   "cell_type": "markdown",
   "metadata": {},
   "source": [
    "Queremos hacer un estudio de mercado del sector del automóvil en España, cómo han evolucionado las ventas a lo largo del tiempo.\n",
    "\n",
    "de aquí saco las matriculaciones por año: https://datosmacro.expansion.com/negocios/matriculaciones-vehiculos/espana?anio=2021\n",
    "\n",
    "de aquí saco una API con los modelos = https://public.opendatasoft.com/explore/dataset/all-vehicles-model/api/\n",
    "\n",
    "API para modelos por años: https://rapidapi.com/koukoulina001/api/cars21/playground/apiendpoint_23fe4099-3684-4e75-8a43-9c7a880e34ba\n",
    "\n",
    "Aquí info sobre modelos: https://anfac.com/cifras-clave/matriculaciones-turismos-y-todoterreno/\n",
    "\n",
    "Coches más vendidos por años: https://www.autofacil.es/industria/coches-mas-vendidos-historia-espana/178791.html\n",
    "\n",
    "API Wallapop: http://api.wallapop.com/api/v3/general/search\n"
   ]
  },
  {
   "cell_type": "code",
   "execution_count": 57,
   "metadata": {},
   "outputs": [],
   "source": [
    "import requests\n",
    "import pandas as pd\n",
    "import sys\n",
    "sys.path.append(\"../\")\n",
    "import src\n",
    "from src import soporte"
   ]
  },
  {
   "cell_type": "code",
   "execution_count": 58,
   "metadata": {},
   "outputs": [],
   "source": [
    "#Test API wallapop: FUNCIONA!!!!!!!!\n",
    "\n",
    "url = \"http://api.wallapop.com/api/v3/general/search\"\n",
    "\n",
    "headers = {'Accept': '*/*', 'User-Agent': 'Wget/1.21.4',\n",
    "\n",
    "'Accept-Encoding': 'identity', 'X-DeviceOS': '0' }\n",
    "\n",
    "params = {\"search_objects\":[],\n",
    "          # \"from\":0,\n",
    "          # \"to\":10,\n",
    "          \"keywords\":\"Dacia\",\n",
    "          \"min_sale_price\" : 1000,\n",
    "          \"max_sale_price\" : 10000,\n",
    "          \"order\":\"most_relevance\",\n",
    "          \"search_point\":{\"latitude\":40.450381,\"longitude\":-3.518064},\n",
    "          \"type\": \"cars_search_cars\",\n",
    "          \"category_id\" : 100,\n",
    "          # \"brand\": \"Dacia\",\n",
    "          # \"model\": \"Dokker\",\n",
    "          \"max_km\": 100000\n",
    "        #   \"spellcheck\":null\n",
    "        }\n",
    "\n",
    "res = requests.get(url, headers = headers, params = params)\n",
    "res.status_code\n",
    "dc_wallapop = res.json()"
   ]
  },
  {
   "cell_type": "code",
   "execution_count": 59,
   "metadata": {},
   "outputs": [],
   "source": [
    "#Sacamos los precios de la API\n",
    "lista_precios = []\n",
    "for i in dc_wallapop[\"search_objects\"]:\n",
    "    lista_precios.append(i[\"price\"])\n",
    "\n",
    "#Sacamos el nombre\n",
    "lista_nombres = []\n",
    "for i in dc_wallapop[\"search_objects\"]:\n",
    "    lista_nombres.append(i[\"title\"])\n",
    "\n",
    "#Sacamos el link\n",
    "lista_links = []\n",
    "for i in dc_wallapop[\"search_objects\"]:\n",
    "    lista_links.append(\"es.wallapop.com/item/\" + i[\"web_slug\"])\n",
    "\n",
    "#Sacamos localizacion\n",
    "lista_localiz = []\n",
    "for i in dc_wallapop[\"search_objects\"]:\n",
    "    lista_localiz.append(list(i[\"location\"].values())[0])\n",
    "\n",
    "#Sacamos Código postal:\n",
    "lista_postal = []\n",
    "for i in dc_wallapop[\"search_objects\"]:\n",
    "    lista_postal.append(list(i[\"location\"].values())[1])\n",
    "\n",
    "#Sacamos país:\n",
    "lista_pais = []\n",
    "for i in dc_wallapop[\"search_objects\"]:\n",
    "    lista_pais.append(list(i[\"location\"].values())[-1])\n",
    "\n",
    "\n"
   ]
  },
  {
   "cell_type": "code",
   "execution_count": 60,
   "metadata": {},
   "outputs": [
    {
     "data": {
      "text/plain": [
       "7355"
      ]
     },
     "execution_count": 60,
     "metadata": {},
     "output_type": "execute_result"
    }
   ],
   "source": [
    "#Sacamos el df con todos los modelos detallados y el precio mediano \n",
    "df_wallapop = pd.DataFrame(list(zip(lista_nombres,lista_precios,lista_localiz,lista_postal,lista_links)), \n",
    "                           columns = [\"Modelo\",\"Precio\",\"Localización\",\"Código_postal\",\"Link_wallapop\"])\n",
    "\n",
    "valor_mediano = int(df_wallapop[\"Precio\"].median())\n",
    "\n",
    "# #Calculamos el precio que más se acerca al precio mediano\n",
    "# precio_wallapop = soporte.acercarse(valor_mediano,lista_precios)\n",
    "# print(f\"el precio del modelo que más se acerca al precio mediano es: {precio_wallapop}\")\n",
    "\n",
    "valor_mediano\n"
   ]
  },
  {
   "cell_type": "code",
   "execution_count": 61,
   "metadata": {},
   "outputs": [],
   "source": [
    "def numero_mas_cercano(valor, lista_numeros):\n",
    "    # Calcula la diferencia absoluta y encuentra el número más cercano\n",
    "    numero_cercano = min(lista_numeros, key=lambda x: abs(x - valor))\n",
    "    return numero_cercano\n",
    "    \n",
    "numerito = numero_mas_cercano(valor_mediano,lista_precios)"
   ]
  },
  {
   "cell_type": "code",
   "execution_count": 63,
   "metadata": {},
   "outputs": [
    {
     "data": {
      "text/html": [
       "<div>\n",
       "<style scoped>\n",
       "    .dataframe tbody tr th:only-of-type {\n",
       "        vertical-align: middle;\n",
       "    }\n",
       "\n",
       "    .dataframe tbody tr th {\n",
       "        vertical-align: top;\n",
       "    }\n",
       "\n",
       "    .dataframe thead th {\n",
       "        text-align: right;\n",
       "    }\n",
       "</style>\n",
       "<table border=\"1\" class=\"dataframe\">\n",
       "  <thead>\n",
       "    <tr style=\"text-align: right;\">\n",
       "      <th></th>\n",
       "      <th>Modelo</th>\n",
       "      <th>Precio</th>\n",
       "      <th>Localización</th>\n",
       "      <th>Código_postal</th>\n",
       "      <th>Link_wallapop</th>\n",
       "    </tr>\n",
       "  </thead>\n",
       "  <tbody>\n",
       "    <tr>\n",
       "      <th>10</th>\n",
       "      <td>DACIA Dokker Dokker Van Essential 1.6 75 kW (1...</td>\n",
       "      <td>7355.0</td>\n",
       "      <td>Mercado Parque Corredor del Henares</td>\n",
       "      <td>28851</td>\n",
       "      <td>es.wallapop.com/item/dacia-dokker-dokker-van-e...</td>\n",
       "    </tr>\n",
       "    <tr>\n",
       "      <th>12</th>\n",
       "      <td>DACIA Dokker Dokker Van Essential 1.6 102CV GLP</td>\n",
       "      <td>7355.0</td>\n",
       "      <td>Mercado Parque Corredor del Henares</td>\n",
       "      <td>28851</td>\n",
       "      <td>es.wallapop.com/item/dacia-dokker-dokker-van-e...</td>\n",
       "    </tr>\n",
       "    <tr>\n",
       "      <th>13</th>\n",
       "      <td>DACIA Dokker Dokker Van Essential 1.6 102CV GLP</td>\n",
       "      <td>7355.0</td>\n",
       "      <td>Mercado Parque Corredor del Henares</td>\n",
       "      <td>28851</td>\n",
       "      <td>es.wallapop.com/item/dacia-dokker-dokker-van-e...</td>\n",
       "    </tr>\n",
       "    <tr>\n",
       "      <th>24</th>\n",
       "      <td>Dacia Dokker 2020</td>\n",
       "      <td>7355.0</td>\n",
       "      <td>Ciudad Deportiva del Jarama</td>\n",
       "      <td>28709</td>\n",
       "      <td>es.wallapop.com/item/dacia-dokker-2020-1020880011</td>\n",
       "    </tr>\n",
       "  </tbody>\n",
       "</table>\n",
       "</div>"
      ],
      "text/plain": [
       "                                               Modelo  Precio  \\\n",
       "10  DACIA Dokker Dokker Van Essential 1.6 75 kW (1...  7355.0   \n",
       "12    DACIA Dokker Dokker Van Essential 1.6 102CV GLP  7355.0   \n",
       "13    DACIA Dokker Dokker Van Essential 1.6 102CV GLP  7355.0   \n",
       "24                                  Dacia Dokker 2020  7355.0   \n",
       "\n",
       "                           Localización Código_postal  \\\n",
       "10  Mercado Parque Corredor del Henares         28851   \n",
       "12  Mercado Parque Corredor del Henares         28851   \n",
       "13  Mercado Parque Corredor del Henares         28851   \n",
       "24          Ciudad Deportiva del Jarama         28709   \n",
       "\n",
       "                                        Link_wallapop  \n",
       "10  es.wallapop.com/item/dacia-dokker-dokker-van-e...  \n",
       "12  es.wallapop.com/item/dacia-dokker-dokker-van-e...  \n",
       "13  es.wallapop.com/item/dacia-dokker-dokker-van-e...  \n",
       "24  es.wallapop.com/item/dacia-dokker-2020-1020880011  "
      ]
     },
     "execution_count": 63,
     "metadata": {},
     "output_type": "execute_result"
    }
   ],
   "source": [
    "filtro = df_wallapop[df_wallapop[\"Precio\"] == numerito]\n",
    "    \n",
    "filtro"
   ]
  }
 ],
 "metadata": {
  "kernelspec": {
   "display_name": "Python 3",
   "language": "python",
   "name": "python3"
  },
  "language_info": {
   "codemirror_mode": {
    "name": "ipython",
    "version": 3
   },
   "file_extension": ".py",
   "mimetype": "text/x-python",
   "name": "python",
   "nbconvert_exporter": "python",
   "pygments_lexer": "ipython3",
   "version": "3.11.10"
  }
 },
 "nbformat": 4,
 "nbformat_minor": 2
}
