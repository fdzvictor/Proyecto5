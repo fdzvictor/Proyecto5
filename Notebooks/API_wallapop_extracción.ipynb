{
 "cells": [
  {
   "cell_type": "markdown",
   "metadata": {},
   "source": [
    "Queremos hacer un estudio de mercado del sector del automóvil en España, cómo han evolucionado las ventas a lo largo del tiempo.\n",
    "\n",
    "de aquí saco las matriculaciones por año: https://datosmacro.expansion.com/negocios/matriculaciones-vehiculos/espana?anio=2021\n",
    "\n",
    "de aquí saco una API con los modelos = https://public.opendatasoft.com/explore/dataset/all-vehicles-model/api/\n",
    "\n",
    "API para modelos por años: https://rapidapi.com/koukoulina001/api/cars21/playground/apiendpoint_23fe4099-3684-4e75-8a43-9c7a880e34ba\n",
    "\n",
    "Aquí info sobre modelos: https://anfac.com/cifras-clave/matriculaciones-turismos-y-todoterreno/\n",
    "\n",
    "Coches más vendidos por años: https://www.autofacil.es/industria/coches-mas-vendidos-historia-espana/178791.html\n",
    "\n",
    "API Wallapop: http://api.wallapop.com/api/v3/general/search\n"
   ]
  },
  {
   "cell_type": "code",
   "execution_count": 2,
   "metadata": {},
   "outputs": [],
   "source": [
    "import requests\n",
    "import pandas as pd\n",
    "import sys\n",
    "sys.path.append(\"../\")\n",
    "import src\n",
    "from src import soporte\n",
    "pd.set_option(\"display.max_rows\", None)\n",
    "pd.set_option('display.max_colwidth', None)"
   ]
  },
  {
   "cell_type": "code",
   "execution_count": 5,
   "metadata": {},
   "outputs": [
    {
     "name": "stdout",
     "output_type": "stream",
     "text": [
      "Para el SEAT IBIZA\n",
      "el precio del modelo que más se acerca al precio mediano es: 13500.0\n",
      "Para el OPEL ASTRA\n",
      "el precio del modelo que más se acerca al precio mediano es: 12790.0\n",
      "Para el VOLKSWAGEN\tGOLF\n",
      "el precio del modelo que más se acerca al precio mediano es: 15000.0\n",
      "Para el TOYOTA C-HR\n",
      "el precio del modelo que más se acerca al precio mediano es: 18081.0\n",
      "Para el CITROEN C4\n",
      "el precio del modelo que más se acerca al precio mediano es: 14500.0\n",
      "Para el SEAT ARONA\n",
      "el precio del modelo que más se acerca al precio mediano es: 16790.0\n",
      "Para el FORD FOCUS\n",
      "el precio del modelo que más se acerca al precio mediano es: 15890.0\n",
      "Para el RENAULT MEGANE\n",
      "el precio del modelo que más se acerca al precio mediano es: 14100.0\n",
      "Para el DACIA SANDERO\n",
      "el precio del modelo que más se acerca al precio mediano es: 12900.0\n"
     ]
    }
   ],
   "source": [
    "lista_coches = [\"SEAT IBIZA\", \"OPEL ASTRA\", \"VOLKSWAGEN\tGOLF\",\"TOYOTA C-HR\", \"CITROEN C4\", \"SEAT ARONA\",\"FORD FOCUS\",\"RENAULT MEGANE\",\"DACIA SANDERO\"]\n",
    "df_final = pd.DataFrame()\n",
    "df_medianos = pd.DataFrame()\n",
    "\n",
    "for coche in lista_coches:\n",
    "    #Creamos un df para cada modelo en específico con 40 observaciones para cada uno. El precio es orientativo\n",
    "    df_coche = soporte.wallapop_coche(coche, 20000,precio_minimo= 10000)\n",
    "    #Extraemos también aquellas unidades que más se acercan al precio mediano de su categoría\n",
    "    print(f\"Para el {coche}\")\n",
    "    df_median = soporte.coche_cerca_mediano(df_coche)\n",
    "\n",
    "    #Concatenamos los dos dfs para tener la información guardada\n",
    "    df_final = pd.concat([df_coche,df_final])\n",
    "    df_medianos = pd.concat([df_median,df_medianos])\n",
    "\n",
    "\n",
    "\n"
   ]
  },
  {
   "cell_type": "code",
   "execution_count": null,
   "metadata": {},
   "outputs": [],
   "source": [
    "# ruta_csv1 = \"C:\\\\Users\\\\Víctor\\\\Desktop\\\\HACKIO\\\\Proyecto5\\\\Datos\\\\CSVs\\\\Modelos_populares_wallapop.csv\"\n",
    "# ruta_csv2 = \"C:\\\\Users\\\\Víctor\\\\Desktop\\\\HACKIO\\\\Proyecto5\\\\Datos\\\\CSVs\\\\Modelos_mediana_populares.csv\"\n",
    "\n",
    "# df_final.to_csv(ruta_csv1, index= False, encoding= \"utf-8\")\n",
    "# df_median.to_csv(ruta_csv2, index= False, encoding= \"utf-8\")"
   ]
  }
 ],
 "metadata": {
  "kernelspec": {
   "display_name": "Python 3",
   "language": "python",
   "name": "python3"
  },
  "language_info": {
   "codemirror_mode": {
    "name": "ipython",
    "version": 3
   },
   "file_extension": ".py",
   "mimetype": "text/x-python",
   "name": "python",
   "nbconvert_exporter": "python",
   "pygments_lexer": "ipython3",
   "version": "3.11.10"
  }
 },
 "nbformat": 4,
 "nbformat_minor": 2
}
