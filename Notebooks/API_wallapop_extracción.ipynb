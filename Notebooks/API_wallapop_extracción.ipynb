{
 "cells": [
  {
   "cell_type": "markdown",
   "metadata": {},
   "source": [
    "Queremos hacer un estudio de mercado del sector del automóvil en España, cómo han evolucionado las ventas a lo largo del tiempo.\n",
    "\n",
    "de aquí saco las matriculaciones por año: https://datosmacro.expansion.com/negocios/matriculaciones-vehiculos/espana?anio=2021\n",
    "\n",
    "de aquí saco una API con los modelos = https://public.opendatasoft.com/explore/dataset/all-vehicles-model/api/\n",
    "\n",
    "API para modelos por años: https://rapidapi.com/koukoulina001/api/cars21/playground/apiendpoint_23fe4099-3684-4e75-8a43-9c7a880e34ba\n",
    "\n",
    "Aquí info sobre modelos: https://anfac.com/cifras-clave/matriculaciones-turismos-y-todoterreno/\n",
    "\n",
    "Coches más vendidos por años: https://www.autofacil.es/industria/coches-mas-vendidos-historia-espana/178791.html\n",
    "\n",
    "API Wallapop: http://api.wallapop.com/api/v3/general/search\n"
   ]
  },
  {
   "cell_type": "code",
   "execution_count": 2,
   "metadata": {},
   "outputs": [],
   "source": [
    "import requests\n",
    "import pandas as pd"
   ]
  },
  {
   "cell_type": "code",
   "execution_count": null,
   "metadata": {},
   "outputs": [],
   "source": [
    "#Test API wallapop: FUNCIONA!!!!!!!!\n",
    "\n",
    "url = \"http://api.wallapop.com/api/v3/general/search\"\n",
    "\n",
    "headers = {'Accept': '*/*', 'User-Agent': 'Wget/1.21.4',\n",
    "\n",
    "'Accept-Encoding': 'identity', 'X-DeviceOS': '0' }\n",
    "\n",
    "# Latitud: . Longitud: \n",
    "\n",
    "params = {\"search_objects\":[],\n",
    "          \"from\":0,\n",
    "          \"to\":100,\n",
    "        #   \"distance_ordered\":false,\n",
    "        #   \"experiment\":null,\n",
    "        #   \"experiment_other_properties\":null,\n",
    "          \"keywords\":\"Iphone\",\n",
    "          \"min_sale_price\" : 0,\n",
    "          \"max_sale_price\" : 200,\n",
    "          \"order\":\"most_relevance\",\n",
    "        #   \"bubble\":null,\n",
    "          \"search_point\":{\"latitude\":40.450381,\"longitude\":-3.518064},\n",
    "        #   \"spellcheck\":null\n",
    "        }\n",
    "\n",
    "res = requests.get(url, headers = headers, params = params)\n",
    "res.status_code\n",
    "\n",
    "dc_wallapop = res.json()\n"
   ]
  },
  {
   "cell_type": "code",
   "execution_count": null,
   "metadata": {},
   "outputs": [],
   "source": []
  }
 ],
 "metadata": {
  "kernelspec": {
   "display_name": "Python 3",
   "language": "python",
   "name": "python3"
  },
  "language_info": {
   "codemirror_mode": {
    "name": "ipython",
    "version": 3
   },
   "file_extension": ".py",
   "mimetype": "text/x-python",
   "name": "python",
   "nbconvert_exporter": "python",
   "pygments_lexer": "ipython3",
   "version": "3.11.10"
  }
 },
 "nbformat": 4,
 "nbformat_minor": 2
}
